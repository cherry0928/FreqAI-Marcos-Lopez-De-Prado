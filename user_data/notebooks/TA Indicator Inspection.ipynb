{
 "cells": [
  {
   "cell_type": "code",
   "execution_count": 5,
   "id": "dd27af59",
   "metadata": {},
   "outputs": [],
   "source": [
    "import yfinance\n",
    "import ta\n",
    "import pandas as pd\n",
    "import numpy as np\n",
    "import seaborn as sns\n",
    "import yfinance as yf\n",
    "import ta\n",
    "import matplotlib.pyplot as plt\n",
    "import mplfinance as mpl"
   ]
  },
  {
   "cell_type": "code",
   "execution_count": 6,
   "id": "d54eaca2",
   "metadata": {},
   "outputs": [
    {
     "name": "stdout",
     "output_type": "stream",
     "text": [
      "[*********************100%***********************]  1 of 1 completed\n"
     ]
    }
   ],
   "source": [
    "# Create a dataframe called df and get data from yahoo finance\n",
    "df = yf.download('BTC-USD', period='1mo', interval='5m',  )"
   ]
  },
  {
   "cell_type": "code",
   "execution_count": 7,
   "id": "1102157f",
   "metadata": {},
   "outputs": [
    {
     "data": {
      "text/html": [
       "<div>\n",
       "<style scoped>\n",
       "    .dataframe tbody tr th:only-of-type {\n",
       "        vertical-align: middle;\n",
       "    }\n",
       "\n",
       "    .dataframe tbody tr th {\n",
       "        vertical-align: top;\n",
       "    }\n",
       "\n",
       "    .dataframe thead th {\n",
       "        text-align: right;\n",
       "    }\n",
       "</style>\n",
       "<table border=\"1\" class=\"dataframe\">\n",
       "  <thead>\n",
       "    <tr style=\"text-align: right;\">\n",
       "      <th></th>\n",
       "      <th>Datetime</th>\n",
       "      <th>Open</th>\n",
       "      <th>High</th>\n",
       "      <th>Low</th>\n",
       "      <th>Close</th>\n",
       "      <th>Adj Close</th>\n",
       "      <th>Volume</th>\n",
       "    </tr>\n",
       "  </thead>\n",
       "  <tbody>\n",
       "    <tr>\n",
       "      <th>0</th>\n",
       "      <td>2022-04-30 13:05:00+00:00</td>\n",
       "      <td>38546.585938</td>\n",
       "      <td>38565.156250</td>\n",
       "      <td>38544.593750</td>\n",
       "      <td>38562.167969</td>\n",
       "      <td>38562.167969</td>\n",
       "      <td>0</td>\n",
       "    </tr>\n",
       "    <tr>\n",
       "      <th>1</th>\n",
       "      <td>2022-04-30 13:10:00+00:00</td>\n",
       "      <td>38575.265625</td>\n",
       "      <td>38577.011719</td>\n",
       "      <td>38574.914062</td>\n",
       "      <td>38577.011719</td>\n",
       "      <td>38577.011719</td>\n",
       "      <td>0</td>\n",
       "    </tr>\n",
       "    <tr>\n",
       "      <th>2</th>\n",
       "      <td>2022-04-30 13:15:00+00:00</td>\n",
       "      <td>38591.734375</td>\n",
       "      <td>38621.355469</td>\n",
       "      <td>38591.734375</td>\n",
       "      <td>38621.355469</td>\n",
       "      <td>38621.355469</td>\n",
       "      <td>0</td>\n",
       "    </tr>\n",
       "    <tr>\n",
       "      <th>3</th>\n",
       "      <td>2022-04-30 13:20:00+00:00</td>\n",
       "      <td>38627.261719</td>\n",
       "      <td>38634.492188</td>\n",
       "      <td>38627.261719</td>\n",
       "      <td>38631.402344</td>\n",
       "      <td>38631.402344</td>\n",
       "      <td>0</td>\n",
       "    </tr>\n",
       "    <tr>\n",
       "      <th>4</th>\n",
       "      <td>2022-04-30 13:25:00+00:00</td>\n",
       "      <td>38627.207031</td>\n",
       "      <td>38627.207031</td>\n",
       "      <td>38615.488281</td>\n",
       "      <td>38615.488281</td>\n",
       "      <td>38615.488281</td>\n",
       "      <td>0</td>\n",
       "    </tr>\n",
       "    <tr>\n",
       "      <th>...</th>\n",
       "      <td>...</td>\n",
       "      <td>...</td>\n",
       "      <td>...</td>\n",
       "      <td>...</td>\n",
       "      <td>...</td>\n",
       "      <td>...</td>\n",
       "      <td>...</td>\n",
       "    </tr>\n",
       "    <tr>\n",
       "      <th>8625</th>\n",
       "      <td>2022-05-30 12:50:00+00:00</td>\n",
       "      <td>30456.099609</td>\n",
       "      <td>30499.500000</td>\n",
       "      <td>30456.099609</td>\n",
       "      <td>30499.500000</td>\n",
       "      <td>30499.500000</td>\n",
       "      <td>54063104</td>\n",
       "    </tr>\n",
       "    <tr>\n",
       "      <th>8626</th>\n",
       "      <td>2022-05-30 12:55:00+00:00</td>\n",
       "      <td>30530.953125</td>\n",
       "      <td>30532.863281</td>\n",
       "      <td>30513.021484</td>\n",
       "      <td>30513.021484</td>\n",
       "      <td>30513.021484</td>\n",
       "      <td>92080128</td>\n",
       "    </tr>\n",
       "    <tr>\n",
       "      <th>8627</th>\n",
       "      <td>2022-05-30 13:00:00+00:00</td>\n",
       "      <td>30515.365234</td>\n",
       "      <td>30529.513672</td>\n",
       "      <td>30515.365234</td>\n",
       "      <td>30527.369141</td>\n",
       "      <td>30527.369141</td>\n",
       "      <td>18839552</td>\n",
       "    </tr>\n",
       "    <tr>\n",
       "      <th>8628</th>\n",
       "      <td>2022-05-30 13:05:00+00:00</td>\n",
       "      <td>30520.982422</td>\n",
       "      <td>30520.982422</td>\n",
       "      <td>30520.982422</td>\n",
       "      <td>30520.982422</td>\n",
       "      <td>30520.982422</td>\n",
       "      <td>0</td>\n",
       "    </tr>\n",
       "    <tr>\n",
       "      <th>8629</th>\n",
       "      <td>2022-05-30 13:06:00+00:00</td>\n",
       "      <td>30512.318359</td>\n",
       "      <td>30512.318359</td>\n",
       "      <td>30512.318359</td>\n",
       "      <td>30512.318359</td>\n",
       "      <td>30512.318359</td>\n",
       "      <td>0</td>\n",
       "    </tr>\n",
       "  </tbody>\n",
       "</table>\n",
       "<p>8630 rows × 7 columns</p>\n",
       "</div>"
      ],
      "text/plain": [
       "                      Datetime          Open          High           Low  \\\n",
       "0    2022-04-30 13:05:00+00:00  38546.585938  38565.156250  38544.593750   \n",
       "1    2022-04-30 13:10:00+00:00  38575.265625  38577.011719  38574.914062   \n",
       "2    2022-04-30 13:15:00+00:00  38591.734375  38621.355469  38591.734375   \n",
       "3    2022-04-30 13:20:00+00:00  38627.261719  38634.492188  38627.261719   \n",
       "4    2022-04-30 13:25:00+00:00  38627.207031  38627.207031  38615.488281   \n",
       "...                        ...           ...           ...           ...   \n",
       "8625 2022-05-30 12:50:00+00:00  30456.099609  30499.500000  30456.099609   \n",
       "8626 2022-05-30 12:55:00+00:00  30530.953125  30532.863281  30513.021484   \n",
       "8627 2022-05-30 13:00:00+00:00  30515.365234  30529.513672  30515.365234   \n",
       "8628 2022-05-30 13:05:00+00:00  30520.982422  30520.982422  30520.982422   \n",
       "8629 2022-05-30 13:06:00+00:00  30512.318359  30512.318359  30512.318359   \n",
       "\n",
       "             Close     Adj Close    Volume  \n",
       "0     38562.167969  38562.167969         0  \n",
       "1     38577.011719  38577.011719         0  \n",
       "2     38621.355469  38621.355469         0  \n",
       "3     38631.402344  38631.402344         0  \n",
       "4     38615.488281  38615.488281         0  \n",
       "...            ...           ...       ...  \n",
       "8625  30499.500000  30499.500000  54063104  \n",
       "8626  30513.021484  30513.021484  92080128  \n",
       "8627  30527.369141  30527.369141  18839552  \n",
       "8628  30520.982422  30520.982422         0  \n",
       "8629  30512.318359  30512.318359         0  \n",
       "\n",
       "[8630 rows x 7 columns]"
      ]
     },
     "execution_count": 7,
     "metadata": {},
     "output_type": "execute_result"
    }
   ],
   "source": [
    "# Let's have a look at the dataframe\n",
    "df.reset_index(inplace=True)\n",
    "df"
   ]
  },
  {
   "cell_type": "code",
   "execution_count": 9,
   "id": "b276752f",
   "metadata": {},
   "outputs": [],
   "source": [
    "kama = ta.momentum.KAMAIndicator(df['Close'], window=10, pow1=2, pow2=30)\n",
    "df['kama'] = kama.kama()"
   ]
  },
  {
   "cell_type": "code",
   "execution_count": 11,
   "id": "a04582ff",
   "metadata": {},
   "outputs": [
    {
     "data": {
      "text/plain": [
       "<AxesSubplot:>"
      ]
     },
     "execution_count": 11,
     "metadata": {},
     "output_type": "execute_result"
    },
    {
     "data": {
      "image/png": "[encoded data removed]",
      "text/plain": [
       "<Figure size 432x288 with 1 Axes>"
      ]
     },
     "metadata": {
      "needs_background": "light"
     },
     "output_type": "display_data"
    }
   ],
   "source": [
    "df[['kama', 'Close']][100:300].plot()"
   ]
  },
  {
   "cell_type": "code",
   "execution_count": null,
   "id": "0bc35b44",
   "metadata": {},
   "outputs": [],
   "source": []
  }
 ],
 "metadata": {
  "kernelspec": {
   "display_name": ".env",
   "language": "python",
   "name": ".env"
  },
  "language_info": {
   "codemirror_mode": {
    "name": "ipython",
    "version": 3
   },
   "file_extension": ".py",
   "mimetype": "text/x-python",
   "name": "python",
   "nbconvert_exporter": "python",
   "pygments_lexer": "ipython3",
   "version": "3.9.13"
  }
 },
 "nbformat": 4,
 "nbformat_minor": 5
}
