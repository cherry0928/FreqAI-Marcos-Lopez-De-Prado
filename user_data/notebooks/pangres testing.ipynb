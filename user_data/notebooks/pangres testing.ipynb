{
 "cells": [
  {
   "cell_type": "code",
   "execution_count": 1,
   "id": "b880174f",
   "metadata": {},
   "outputs": [],
   "source": [
    "import pandas as pd\n",
    "from pangres import upsert, DocsExampleTable\n",
    "from sqlalchemy import create_engine, text, VARCHAR"
   ]
  },
  {
   "cell_type": "code",
   "execution_count": 2,
   "id": "dbcc8f65",
   "metadata": {},
   "outputs": [],
   "source": [
    "table_name = 'metric_test'\n",
    "connection_string = \"sqlite:///:litmus:\"\n",
    "\n",
    "engine = create_engine(connection_string)"
   ]
  },
  {
   "cell_type": "code",
   "execution_count": 9,
   "id": "3eb1db33",
   "metadata": {},
   "outputs": [],
   "source": [
    "def display_table():\n",
    "    with engine.connect() as connection:\n",
    "        query = text(f'SELECT * FROM {table_name}')\n",
    "        display(pd.read_sql(query, con=connection, index_col='full_name')\n",
    "                .astype({'likes_sport':bool}))"
   ]
  },
  {
   "cell_type": "code",
   "execution_count": 10,
   "id": "2ed42155",
   "metadata": {},
   "outputs": [
    {
     "data": {
      "text/html": [
       "<div>\n",
       "<style scoped>\n",
       "    .dataframe tbody tr th:only-of-type {\n",
       "        vertical-align: middle;\n",
       "    }\n",
       "\n",
       "    .dataframe tbody tr th {\n",
       "        vertical-align: top;\n",
       "    }\n",
       "\n",
       "    .dataframe thead th {\n",
       "        text-align: right;\n",
       "    }\n",
       "</style>\n",
       "<table border=\"1\" class=\"dataframe\">\n",
       "  <thead>\n",
       "    <tr style=\"text-align: right;\">\n",
       "      <th></th>\n",
       "      <th>likes_sport</th>\n",
       "      <th>updated</th>\n",
       "      <th>size_in_meters</th>\n",
       "    </tr>\n",
       "    <tr>\n",
       "      <th>full_name</th>\n",
       "      <th></th>\n",
       "      <th></th>\n",
       "      <th></th>\n",
       "    </tr>\n",
       "  </thead>\n",
       "  <tbody>\n",
       "    <tr>\n",
       "      <th>John Rambo</th>\n",
       "      <td>True</td>\n",
       "      <td>2020-02-01 00:00:00+00:00</td>\n",
       "      <td>1.77</td>\n",
       "    </tr>\n",
       "    <tr>\n",
       "      <th>The Rock</th>\n",
       "      <td>True</td>\n",
       "      <td>2020-04-01 00:00:00+00:00</td>\n",
       "      <td>1.96</td>\n",
       "    </tr>\n",
       "    <tr>\n",
       "      <th>John Travolta</th>\n",
       "      <td>False</td>\n",
       "      <td>NaT</td>\n",
       "      <td>NaN</td>\n",
       "    </tr>\n",
       "  </tbody>\n",
       "</table>\n",
       "</div>"
      ],
      "text/plain": [
       "               likes_sport                   updated  size_in_meters\n",
       "full_name                                                           \n",
       "John Rambo            True 2020-02-01 00:00:00+00:00            1.77\n",
       "The Rock              True 2020-04-01 00:00:00+00:00            1.96\n",
       "John Travolta        False                       NaT             NaN"
      ]
     },
     "execution_count": 10,
     "metadata": {},
     "output_type": "execute_result"
    }
   ],
   "source": [
    "df = DocsExampleTable.df\n",
    "df"
   ]
  },
  {
   "cell_type": "code",
   "execution_count": 11,
   "id": "69924cd4",
   "metadata": {},
   "outputs": [
    {
     "data": {
      "text/html": [
       "<div>\n",
       "<style scoped>\n",
       "    .dataframe tbody tr th:only-of-type {\n",
       "        vertical-align: middle;\n",
       "    }\n",
       "\n",
       "    .dataframe tbody tr th {\n",
       "        vertical-align: top;\n",
       "    }\n",
       "\n",
       "    .dataframe thead th {\n",
       "        text-align: right;\n",
       "    }\n",
       "</style>\n",
       "<table border=\"1\" class=\"dataframe\">\n",
       "  <thead>\n",
       "    <tr style=\"text-align: right;\">\n",
       "      <th></th>\n",
       "      <th>likes_sport</th>\n",
       "      <th>updated</th>\n",
       "      <th>size_in_meters</th>\n",
       "    </tr>\n",
       "    <tr>\n",
       "      <th>full_name</th>\n",
       "      <th></th>\n",
       "      <th></th>\n",
       "      <th></th>\n",
       "    </tr>\n",
       "  </thead>\n",
       "  <tbody>\n",
       "    <tr>\n",
       "      <th>John Rambo</th>\n",
       "      <td>True</td>\n",
       "      <td>2020-02-01 00:00:00.000000</td>\n",
       "      <td>1.77</td>\n",
       "    </tr>\n",
       "    <tr>\n",
       "      <th>The Rock</th>\n",
       "      <td>True</td>\n",
       "      <td>2020-04-01 00:00:00.000000</td>\n",
       "      <td>1.96</td>\n",
       "    </tr>\n",
       "    <tr>\n",
       "      <th>John Travolta</th>\n",
       "      <td>False</td>\n",
       "      <td>None</td>\n",
       "      <td>NaN</td>\n",
       "    </tr>\n",
       "  </tbody>\n",
       "</table>\n",
       "</div>"
      ],
      "text/plain": [
       "               likes_sport                     updated  size_in_meters\n",
       "full_name                                                             \n",
       "John Rambo            True  2020-02-01 00:00:00.000000            1.77\n",
       "The Rock              True  2020-04-01 00:00:00.000000            1.96\n",
       "John Travolta        False                        None             NaN"
      ]
     },
     "metadata": {},
     "output_type": "display_data"
    }
   ],
   "source": [
    "upsert(con=engine, df=df, table_name='metric_test', if_row_exists='update',\n",
    "       chunksize=1000, create_table=True)  # default\n",
    "display_table()"
   ]
  },
  {
   "cell_type": "code",
   "execution_count": null,
   "id": "af9403b3",
   "metadata": {},
   "outputs": [],
   "source": []
  }
 ],
 "metadata": {
  "kernelspec": {
   "display_name": ".env",
   "language": "python",
   "name": ".env"
  },
  "language_info": {
   "codemirror_mode": {
    "name": "ipython",
    "version": 3
   },
   "file_extension": ".py",
   "mimetype": "text/x-python",
   "name": "python",
   "nbconvert_exporter": "python",
   "pygments_lexer": "ipython3",
   "version": "3.9.13"
  }
 },
 "nbformat": 4,
 "nbformat_minor": 5
}
