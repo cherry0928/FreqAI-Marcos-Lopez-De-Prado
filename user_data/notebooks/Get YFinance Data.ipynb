{
 "cells": [
  {
   "cell_type": "code",
   "execution_count": 5,
   "id": "38a218c9",
   "metadata": {},
   "outputs": [
    {
     "name": "stdout",
     "output_type": "stream",
     "text": [
      "/Users/mregan/Dev/litmus\n",
      "The autoreload extension is already loaded. To reload it, use:\n",
      "  %reload_ext autoreload\n"
     ]
    }
   ],
   "source": [
    "from user_data.litmus import external_informative_data as eid\n",
    "import pandas as pd\n",
    "\n",
    "import os\n",
    "from pathlib import Path\n",
    "os.chdir(\"/Users/mregan/Dev/litmus/\")\n",
    "print(Path.cwd())\n",
    "\n",
    "%load_ext autoreload\n",
    "%autoreload 2"
   ]
  },
  {
   "cell_type": "code",
   "execution_count": 6,
   "id": "05a44191",
   "metadata": {},
   "outputs": [
    {
     "name": "stdout",
     "output_type": "stream",
     "text": [
      "[*********************100%***********************]  1 of 1 completed\n",
      "[*********************100%***********************]  1 of 1 completed\n",
      "[*********************100%***********************]  1 of 1 completed\n"
     ]
    }
   ],
   "source": [
    "tickers = ['^GSPC', 'DX-Y.NYB', '^VIX']\n",
    "\n",
    "eid.fetch_yfinance_data(tickers)"
   ]
  },
  {
   "cell_type": "code",
   "execution_count": 4,
   "id": "bca0196e",
   "metadata": {},
   "outputs": [
    {
     "name": "stdout",
     "output_type": "stream",
     "text": [
      "Cointegration Testing.ipynb\r\n",
      "Get YFinance Data.ipynb\r\n",
      "Inspect Glassnode Data.ipynb\r\n",
      "Litmus - Analyze Strategy Signals.ipynb\r\n",
      "Litmus - Litmus Backtest Trade Data Inspection.ipynb\r\n",
      "Litmus - Meta Train.ipynb\r\n",
      "Litmus - Vulcan Meta Train Old GetData Method.ipynb\r\n",
      "Pkl Backtest Load.ipynb\r\n",
      "TA Indicator Inspection.ipynb\r\n"
     ]
    }
   ],
   "source": [
    "ls"
   ]
  },
  {
   "cell_type": "code",
   "execution_count": 8,
   "id": "a2752325",
   "metadata": {},
   "outputs": [
    {
     "data": {
      "text/html": [
       "<div>\n",
       "<style scoped>\n",
       "    .dataframe tbody tr th:only-of-type {\n",
       "        vertical-align: middle;\n",
       "    }\n",
       "\n",
       "    .dataframe tbody tr th {\n",
       "        vertical-align: top;\n",
       "    }\n",
       "\n",
       "    .dataframe thead th {\n",
       "        text-align: right;\n",
       "    }\n",
       "</style>\n",
       "<table border=\"1\" class=\"dataframe\">\n",
       "  <thead>\n",
       "    <tr style=\"text-align: right;\">\n",
       "      <th></th>\n",
       "      <th>date</th>\n",
       "      <th>open</th>\n",
       "      <th>high</th>\n",
       "      <th>low</th>\n",
       "      <th>close</th>\n",
       "      <th>volume</th>\n",
       "    </tr>\n",
       "  </thead>\n",
       "  <tbody>\n",
       "    <tr>\n",
       "      <th>0</th>\n",
       "      <td>2017-06-01 00:00:00+00:00</td>\n",
       "      <td>2415.649902</td>\n",
       "      <td>2430.060059</td>\n",
       "      <td>2413.540039</td>\n",
       "      <td>2430.060059</td>\n",
       "      <td>3857140000</td>\n",
       "    </tr>\n",
       "    <tr>\n",
       "      <th>1</th>\n",
       "      <td>2017-06-02 00:00:00+00:00</td>\n",
       "      <td>2431.280029</td>\n",
       "      <td>2440.229980</td>\n",
       "      <td>2427.709961</td>\n",
       "      <td>2439.070068</td>\n",
       "      <td>3461680000</td>\n",
       "    </tr>\n",
       "    <tr>\n",
       "      <th>2</th>\n",
       "      <td>2017-06-05 00:00:00+00:00</td>\n",
       "      <td>2437.830078</td>\n",
       "      <td>2439.550049</td>\n",
       "      <td>2434.320068</td>\n",
       "      <td>2436.100098</td>\n",
       "      <td>2912600000</td>\n",
       "    </tr>\n",
       "    <tr>\n",
       "      <th>3</th>\n",
       "      <td>2017-06-06 00:00:00+00:00</td>\n",
       "      <td>2431.919922</td>\n",
       "      <td>2436.209961</td>\n",
       "      <td>2428.120117</td>\n",
       "      <td>2429.330078</td>\n",
       "      <td>3357840000</td>\n",
       "    </tr>\n",
       "    <tr>\n",
       "      <th>4</th>\n",
       "      <td>2017-06-07 00:00:00+00:00</td>\n",
       "      <td>2432.030029</td>\n",
       "      <td>2435.280029</td>\n",
       "      <td>2424.750000</td>\n",
       "      <td>2433.139893</td>\n",
       "      <td>3572300000</td>\n",
       "    </tr>\n",
       "    <tr>\n",
       "      <th>...</th>\n",
       "      <td>...</td>\n",
       "      <td>...</td>\n",
       "      <td>...</td>\n",
       "      <td>...</td>\n",
       "      <td>...</td>\n",
       "      <td>...</td>\n",
       "    </tr>\n",
       "    <tr>\n",
       "      <th>1254</th>\n",
       "      <td>2022-05-24 00:00:00+00:00</td>\n",
       "      <td>3942.939941</td>\n",
       "      <td>3955.679932</td>\n",
       "      <td>3875.129883</td>\n",
       "      <td>3941.479980</td>\n",
       "      <td>3901640000</td>\n",
       "    </tr>\n",
       "    <tr>\n",
       "      <th>1255</th>\n",
       "      <td>2022-05-25 00:00:00+00:00</td>\n",
       "      <td>3929.590088</td>\n",
       "      <td>3999.330078</td>\n",
       "      <td>3925.030029</td>\n",
       "      <td>3978.729980</td>\n",
       "      <td>4322190000</td>\n",
       "    </tr>\n",
       "    <tr>\n",
       "      <th>1256</th>\n",
       "      <td>2022-05-26 00:00:00+00:00</td>\n",
       "      <td>3984.600098</td>\n",
       "      <td>4075.139893</td>\n",
       "      <td>3984.600098</td>\n",
       "      <td>4057.840088</td>\n",
       "      <td>3961940000</td>\n",
       "    </tr>\n",
       "    <tr>\n",
       "      <th>1257</th>\n",
       "      <td>2022-05-27 00:00:00+00:00</td>\n",
       "      <td>4077.429932</td>\n",
       "      <td>4158.490234</td>\n",
       "      <td>4077.429932</td>\n",
       "      <td>4158.240234</td>\n",
       "      <td>3560560000</td>\n",
       "    </tr>\n",
       "    <tr>\n",
       "      <th>1258</th>\n",
       "      <td>2022-05-31 00:00:00+00:00</td>\n",
       "      <td>4151.089844</td>\n",
       "      <td>4168.339844</td>\n",
       "      <td>4104.879883</td>\n",
       "      <td>4132.149902</td>\n",
       "      <td>5192220000</td>\n",
       "    </tr>\n",
       "  </tbody>\n",
       "</table>\n",
       "<p>1259 rows × 6 columns</p>\n",
       "</div>"
      ],
      "text/plain": [
       "                          date         open         high          low  \\\n",
       "0    2017-06-01 00:00:00+00:00  2415.649902  2430.060059  2413.540039   \n",
       "1    2017-06-02 00:00:00+00:00  2431.280029  2440.229980  2427.709961   \n",
       "2    2017-06-05 00:00:00+00:00  2437.830078  2439.550049  2434.320068   \n",
       "3    2017-06-06 00:00:00+00:00  2431.919922  2436.209961  2428.120117   \n",
       "4    2017-06-07 00:00:00+00:00  2432.030029  2435.280029  2424.750000   \n",
       "...                        ...          ...          ...          ...   \n",
       "1254 2022-05-24 00:00:00+00:00  3942.939941  3955.679932  3875.129883   \n",
       "1255 2022-05-25 00:00:00+00:00  3929.590088  3999.330078  3925.030029   \n",
       "1256 2022-05-26 00:00:00+00:00  3984.600098  4075.139893  3984.600098   \n",
       "1257 2022-05-27 00:00:00+00:00  4077.429932  4158.490234  4077.429932   \n",
       "1258 2022-05-31 00:00:00+00:00  4151.089844  4168.339844  4104.879883   \n",
       "\n",
       "            close      volume  \n",
       "0     2430.060059  3857140000  \n",
       "1     2439.070068  3461680000  \n",
       "2     2436.100098  2912600000  \n",
       "3     2429.330078  3357840000  \n",
       "4     2433.139893  3572300000  \n",
       "...           ...         ...  \n",
       "1254  3941.479980  3901640000  \n",
       "1255  3978.729980  4322190000  \n",
       "1256  4057.840088  3961940000  \n",
       "1257  4158.240234  3560560000  \n",
       "1258  4132.149902  5192220000  \n",
       "\n",
       "[1259 rows x 6 columns]"
      ]
     },
     "execution_count": 8,
     "metadata": {},
     "output_type": "execute_result"
    }
   ],
   "source": [
    "eid.load_local_data(file_name='yfinance^GSPC.csv', folder='yfinance')"
   ]
  },
  {
   "cell_type": "code",
   "execution_count": null,
   "id": "1ad7aab5",
   "metadata": {},
   "outputs": [],
   "source": []
  }
 ],
 "metadata": {
  "kernelspec": {
   "display_name": ".env",
   "language": "python",
   "name": ".env"
  },
  "language_info": {
   "codemirror_mode": {
    "name": "ipython",
    "version": 3
   },
   "file_extension": ".py",
   "mimetype": "text/x-python",
   "name": "python",
   "nbconvert_exporter": "python",
   "pygments_lexer": "ipython3",
   "version": "3.9.13"
  }
 },
 "nbformat": 4,
 "nbformat_minor": 5
}
